{
  "nbformat": 4,
  "nbformat_minor": 0,
  "metadata": {
    "colab": {
      "name": "maxcut_qaoa_ravh.ipynb",
      "provenance": [],
      "authorship_tag": "ABX9TyPZkL3GiG7D9QzmAORDZ8Pj",
      "include_colab_link": true
    },
    "kernelspec": {
      "name": "python3",
      "display_name": "Python 3"
    }
  },
  "cells": [
    {
      "cell_type": "markdown",
      "metadata": {
        "id": "view-in-github",
        "colab_type": "text"
      },
      "source": [
        "<a href=\"https://colab.research.google.com/github/RodrigoAVargasHdz/GPytorch_PES/blob/master/maxcut_qaoa_ravh.ipynb\" target=\"_parent\"><img src=\"https://colab.research.google.com/assets/colab-badge.svg\" alt=\"Open In Colab\"/></a>"
      ]
    },
    {
      "cell_type": "markdown",
      "metadata": {
        "id": "okbhU0Z2Ria1"
      },
      "source": [
        "QAOA for the MAX-CUT problem in Qiskt"
      ]
    },
    {
      "cell_type": "code",
      "metadata": {
        "id": "KFXPNOEcRspc"
      },
      "source": [
        "import "
      ],
      "execution_count": null,
      "outputs": []
    }
  ]
}